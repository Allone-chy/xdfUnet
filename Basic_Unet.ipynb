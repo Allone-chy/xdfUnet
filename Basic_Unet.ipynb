{
  "nbformat": 4,
  "nbformat_minor": 0,
  "metadata": {
    "colab": {
      "provenance": [],
      "toc_visible": true,
      "collapsed_sections": [],
      "authorship_tag": "ABX9TyMb+DYkesFWIj6TLmuIr3iU",
      "include_colab_link": true
    },
    "kernelspec": {
      "name": "python3",
      "display_name": "Python 3"
    },
    "language_info": {
      "name": "python"
    }
  },
  "cells": [
    {
      "cell_type": "markdown",
      "metadata": {
        "id": "view-in-github",
        "colab_type": "text"
      },
      "source": [
        "<a href=\"https://colab.research.google.com/github/Allone-chy/xdfUnet/blob/main/Basic_Unet.ipynb\" target=\"_parent\"><img src=\"https://colab.research.google.com/assets/colab-badge.svg\" alt=\"Open In Colab\"/></a>"
      ]
    },
    {
      "cell_type": "code",
      "execution_count": null,
      "metadata": {
        "id": "H0BvCElCQttP",
        "colab": {
          "base_uri": "https://localhost:8080/"
        },
        "outputId": "5fc25681-7564-423f-9929-454c26f8ce26"
      },
      "outputs": [
        {
          "output_type": "execute_result",
          "data": {
            "text/plain": [
              "[]"
            ]
          },
          "metadata": {},
          "execution_count": 11
        }
      ],
      "source": [
        "import tensorflow as tf\n",
        "import os\n",
        "import numpy as np\n",
        "from tqdm import tqdm\n",
        "import matplotlib.pyplot as plt\n",
        "from skimage.io import imread, imshow\n",
        "\n",
        "IMG_WIDTH = 128\n",
        "IMG_HEIGHT = 128\n",
        "IMG_CHANNELS = 3\n",
        "\n",
        "TRAIN_PATH = r'C:\\Users\\Allone_chy\\Desktop\\Unet\\raw'\n",
        "MASK_PATH = r\"C:\\Users\\Allone_chy\\Desktop\\Unet\\test\"\n",
        "\n",
        "train_ids = next(os.walk(TRAIN_PATH))\n",
        "\n",
        "mask_ids = next(os.walk(MASK_PATH))\n",
        "# mask_ids[2]\n",
        "\n",
        "# len(train_ids[2])"
      ]
    },
    {
      "cell_type": "code",
      "source": [
        "X_train = np.zeros((len(train_ids[2]),IMG_HEIGHT, IMG_WIDTH, IMG_CHANNELS), dtype = np.uint8)\n",
        "\n",
        "for n, id_ in tqdm(enumerate(train_ids[2]),total = len(train_ids[2])):\n",
        "    path = r'C:/Users/guangwei/Downloads/raw-20220908T042625Z-001/raw/'\n",
        "    img = imread(path+id_)\n",
        "    X_train[n] = img\n",
        "\n",
        "# imshow(X_train[0])\n",
        "# plt.show()\n",
        "\n",
        "Y_train = np.zeros((len(train_ids[2]),IMG_HEIGHT, IMG_WIDTH, 1), dtype = bool)\n",
        "\n",
        "for n, mask_id_ in tqdm(enumerate(mask_ids[2]),total = len(mask_ids[2])):\n",
        "    path = r'C:/Users/guangwei/Downloads/raw-20220908T042625Z-001/masks/'\n",
        "    mask_ = imread(path + mask_id_)\n",
        "    mask_ = np.expand_dims(mask_, axis = -1)\n",
        "    Y_train[n] = mask_\n",
        "    #print(n, mask_id_)\n",
        "\n",
        "# imshow(np.squeeze(Y_train[0]))\n",
        "# plt.show()\n",
        "\n"
      ],
      "metadata": {
        "id": "B5Wm3hu0tUfZ"
      },
      "execution_count": null,
      "outputs": []
    },
    {
      "cell_type": "code",
      "source": [
        "inputs = tf.keras.layers.Input((IMG_HEIGHT, IMG_WIDTH, IMG_CHANNELS))\n",
        "s = tf.keras.layers.Lambda(lambda x:x /255)(inputs)\n",
        "\n",
        "c1 = tf.keras.layers.Conv2D(16, (3,3), activation = 'relu', kernel_initializer = 'he_normal', padding = 'same')(s)\n",
        "c1 = tf.keras.layers.Dropout(0.1)(c1)\n",
        "c1 = tf.keras.layers.Conv2D(16, (3,3), activation = 'relu', kernel_initializer = 'he_normal', padding = 'same')(c1)\n",
        "p1 = tf.keras.layers.MaxPooling2D((2,2))(c1)\n",
        "\n",
        "c2 = tf.keras.layers.Conv2D(32, (3,3), activation = 'relu', kernel_initializer = 'he_normal', padding = 'same')(p1)\n",
        "c2 = tf.keras.layers.Dropout(0.1)(c2)\n",
        "c2 = tf.keras.layers.Conv2D(32, (3,3), activation = 'relu', kernel_initializer = 'he_normal', padding = 'same')(c2)\n",
        "p2 = tf.keras.layers.MaxPooling2D((2,2))(c2)\n",
        "\n",
        "c3 = tf.keras.layers.Conv2D(64, (3,3), activation = 'relu', kernel_initializer = 'he_normal', padding = 'same')(p2)\n",
        "c3 = tf.keras.layers.Dropout(0.1)(c3)\n",
        "c3 = tf.keras.layers.Conv2D(64, (3,3), activation = 'relu', kernel_initializer = 'he_normal', padding = 'same')(c3)\n",
        "p3 = tf.keras.layers.MaxPooling2D((2,2))(c3)\n",
        "\n",
        "c4 = tf.keras.layers.Conv2D(128, (3,3), activation = 'relu', kernel_initializer = 'he_normal', padding = 'same')(p3)\n",
        "c4 = tf.keras.layers.Dropout(0.1)(c4)\n",
        "c4 = tf.keras.layers.Conv2D(128, (3,3), activation = 'relu', kernel_initializer = 'he_normal', padding = 'same')(c4)\n",
        "p4 = tf.keras.layers.MaxPooling2D((2,2))(c4)\n",
        "\n",
        "c5 = tf.keras.layers.Conv2D(256, (3,3), activation = 'relu', kernel_initializer = 'he_normal', padding = 'same')(p4)\n",
        "c5 = tf.keras.layers.Dropout(0.1)(c5)\n",
        "c5 = tf.keras.layers.Conv2D(256, (3,3), activation = 'relu', kernel_initializer = 'he_normal', padding = 'same')(c5)\n",
        "\n",
        "u6 = tf.keras.layers.Conv2DTranspose(128, (2,2), strides = (2,2), padding = 'same')(c5)\n",
        "u6 = tf.keras.layers.concatenate([u6,c4])\n",
        "c6 = tf.keras.layers.Conv2D(128, (3,3), activation = 'relu', kernel_initializer = 'he_normal', padding = 'same')(u6)\n",
        "c6 = tf.keras.layers.Dropout(0.1)(c6)\n",
        "c6 = tf.keras.layers.Conv2D(128, (3,3), activation = 'relu', kernel_initializer = 'he_normal', padding = 'same')(c6)\n",
        "\n",
        "u7 = tf.keras.layers.Conv2DTranspose(64, (2,2), strides = (2,2), padding = 'same')(c6)\n",
        "u7 = tf.keras.layers.concatenate([u7,c3])\n",
        "c7 = tf.keras.layers.Conv2D(64, (3,3), activation = 'relu', kernel_initializer = 'he_normal', padding = 'same')(u7)\n",
        "c7 = tf.keras.layers.Dropout(0.1)(c7)\n",
        "c7 = tf.keras.layers.Conv2D(64, (3,3), activation = 'relu', kernel_initializer = 'he_normal', padding = 'same')(c7)\n",
        "\n",
        "u8 = tf.keras.layers.Conv2DTranspose(32, (2,2), strides = (2,2), padding = 'same')(c7)\n",
        "u8 = tf.keras.layers.concatenate([u8,c2])\n",
        "c8 = tf.keras.layers.Conv2D(32, (3,3), activation = 'relu', kernel_initializer = 'he_normal', padding = 'same')(u8)\n",
        "c8 = tf.keras.layers.Dropout(0.1)(c8)\n",
        "c8 = tf.keras.layers.Conv2D(32, (3,3), activation = 'relu', kernel_initializer = 'he_normal', padding = 'same')(c8)\n",
        "\n",
        "u9 = tf.keras.layers.Conv2DTranspose(16, (2,2), strides = (2,2), padding = 'same')(c8)\n",
        "u9 = tf.keras.layers.concatenate([u9,c1])\n",
        "c9 = tf.keras.layers.Conv2D(16, (3,3), activation = 'relu', kernel_initializer = 'he_normal', padding = 'same')(u9)\n",
        "c9 = tf.keras.layers.Dropout(0.1)(c9)\n",
        "c9 = tf.keras.layers.Conv2D(16, (3,3), activation = 'relu', kernel_initializer = 'he_normal', padding = 'same')(c9)\n",
        "outputs = tf.keras.layers.Conv2D(1,(1,1), activation = 'sigmoid')(c9)\n",
        "\n",
        "model = tf.keras.Model(inputs =[inputs], outputs = [outputs])\n",
        "\n"
      ],
      "metadata": {
        "id": "bfED4Xk1tgec"
      },
      "execution_count": null,
      "outputs": []
    },
    {
      "cell_type": "code",
      "source": [
        "model.compile(optimizer ='adam', loss ='binary_crossentropy', metrics = ['accuracy'])\n",
        "# model.summary()\n",
        "\n",
        "checkpointer = tf.keras.callbacks.ModelCheckpoint('model_for_allen_mouse_brain_ISH.h5', verbose = 1, save_best_only = True)\n",
        "\n",
        "callbacks = [\n",
        "    tf.keras.callbacks.EarlyStopping(patience = 2, monitor = 'val_loss'),\n",
        "    tf.keras.callbacks.TensorBoard(log_dir = 'logs')]\n",
        "\n",
        "results = model.fit(X_train, Y_train, validation_split = 0.1, batch_size = 16, epochs = 25, callbacks = callbacks)\n",
        "\n",
        "preds_train = model.predict(X_train[:40], verbose = 1)\n",
        "#preds_val = model.predict(X_train[-1],verbose = 1)\n",
        "#X_train[1].shape\n",
        "#temp_img = X_train[1]\n",
        "#imshow(temp_img)\n",
        "#plt.show()\n",
        "preds_val= model.predict(X_train[41:50], verbose = 1)\n",
        "\n",
        "imshow((preds_train[1]>0.01).astype(np.uint8))\n",
        "plt.show()\n",
        "\n",
        "imshow(X_train[1])\n",
        "plt.show()"
      ],
      "metadata": {
        "id": "YWC4sH0xtpPh"
      },
      "execution_count": null,
      "outputs": []
    }
  ]
}